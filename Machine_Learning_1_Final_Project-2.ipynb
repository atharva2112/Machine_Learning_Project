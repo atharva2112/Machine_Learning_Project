{
  "nbformat": 4,
  "nbformat_minor": 0,
  "metadata": {
    "colab": {
      "name": "Machine Learning 1 Final Project.ipynb",
      "provenance": [],
      "collapsed_sections": []
    },
    "kernelspec": {
      "name": "python3",
      "display_name": "Python 3"
    },
    "language_info": {
      "name": "python"
    }
  },
  "cells": [
    {
      "cell_type": "markdown",
      "source": [
        "<b>\n",
        "<p>\n",
        "<center>\n",
        "<font size='5'>\n",
        "George Washington University\n",
        "</font>\n",
        "</center>\n",
        "</p>\n",
        "\n",
        "<p>\n",
        "<center>\n",
        "<font size='4'>\n",
        "Machine Learning 1 Final Term Project\n",
        "</font>\n",
        "</center>\n",
        "</p>\n",
        "    \n",
        "<p>\n",
        "<center>\n",
        "<font size='4'>\n",
        "Predicting Road signs using CNN\n",
        "</font>\n",
        "</center>\n",
        "</p>\n",
        "\n",
        "<p>\n",
        "<center>\n",
        "<font size='3'>\n",
        "Data Science, Columbian College of Arts & Sciences\n",
        "</font>\n",
        "</center>\n",
        "</p>\n",
        "\n",
        "<p>\n",
        "<center>\n",
        "<font size='3'>\n",
        "Atharva Haldankar\n",
        "</font>\n",
        "</center>\n",
        "</p>\n",
        "</b>\n"
      ],
      "metadata": {
        "id": "GI2gbKulNtZU"
      }
    },
    {
      "cell_type": "code",
      "source": [
        "import numpy as np\n",
        "import pandas as pd\n",
        "import matplotlib.pyplot as plt#to plot accuracy\n",
        "import cv2\n",
        "import tensorflow as tf\n",
        "from PIL import Image\n",
        "import os\n",
        "from sklearn.model_selection import train_test_split #to split training and testing data\n",
        "from tensorflow.keras.utils import to_categorical#to convert the labels present in y_train and t_test into one-hot encoding\n",
        "from tensorflow.keras.models import Sequential, load_model\n",
        "from tensorflow.keras.layers import Conv2D, MaxPool2D, Dense, Flatten, Dropout#to create CNN\n",
        "import tensorflow as tf\n",
        "from tensorflow import keras\n",
        "import random\n",
        "from keras.preprocessing.image import ImageDataGenerator"
      ],
      "metadata": {
        "id": "9cluGYvTEHN1"
      },
      "execution_count": null,
      "outputs": []
    },
    {
      "cell_type": "code",
      "execution_count": null,
      "metadata": {
        "id": "Rp5LgVH6qr8e"
      },
      "outputs": [],
      "source": [
        "from google.colab import drive\n",
        "import sys\n",
        "\n",
        "# Mount Google Drive\n",
        "drive.mount('/content/drive')\n",
        "\n",
        "# Get the absolute path of the current folder\n",
        "cur_path =  '/content/drive/My Drive/Colab Notebooks/spring_2021/project/'\n",
        "\n",
        "# Get the absolute path of the deep utilities folder\n",
        "abspath_util_deep = '/content/drive/My Drive/Colab Notebooks/spring_2021/code/utilities/p3_deep_learning/'"
      ]
    },
    {
      "cell_type": "code",
      "source": [
        "#%%\n",
        "data = []\n",
        "labels = []\n",
        "classes = 43\n",
        "path = os.path.join(cur_path,\"data\",'myData')"
      ],
      "metadata": {
        "id": "ig3BrXJLEEWH"
      },
      "execution_count": null,
      "outputs": []
    },
    {
      "cell_type": "markdown",
      "source": [
        "# Loading the data by reading the images used for training.\n"
      ],
      "metadata": {
        "id": "2J9ot5XXEifI"
      }
    },
    {
      "cell_type": "code",
      "source": [
        "#Retrieving the images and their labels\n",
        "count = 0\n",
        "images = []\n",
        "classNo = []\n",
        "myList = os.listdir(path)\n",
        "print(\"Total Classes Detected:\",len(myList))\n",
        "noOfClasses=len(myList)\n",
        "print(\"Importing Classes.....\")\n",
        "for x in range (0,len(myList)):\n",
        "    myPicList = os.listdir(path+\"/\"+str(count))\n",
        "    for y in myPicList:\n",
        "        curImg = cv2.imread(path+\"/\"+str(count)+\"/\"+y)\n",
        "        images.append(curImg)\n",
        "        classNo.append(count)\n",
        "    print(count, end =\" \")\n",
        "    count +=1\n",
        "print(\" \")\n",
        "images = np.array(images)\n",
        "classNo = np.array(classNo)"
      ],
      "metadata": {
        "id": "9IIaipM5EWmz",
        "colab": {
          "base_uri": "https://localhost:8080/"
        },
        "outputId": "8267333e-3c66-4be2-fd43-b0f94806110c"
      },
      "execution_count": 4,
      "outputs": [
        {
          "output_type": "stream",
          "name": "stdout",
          "text": [
            "Total Classes Detected: 43\n",
            "Importing Classes.....\n",
            "0 1 2 3 4 5 6 7 8 9 10 11 12 13 14 15 16 17 18 19 20 21 22 23 24 25 26 27 28 29 30 31 32 33 34 35 36 37 38 39 40 41 42  \n"
          ]
        }
      ]
    },
    {
      "cell_type": "markdown",
      "source": [
        "# Warning"
      ],
      "metadata": {
        "id": "WjS_Grv6HRDn"
      }
    },
    {
      "cell_type": "code",
      "source": [
        "import warnings\n",
        "# Ignore warnings\n",
        "warnings.filterwarnings('ignore')"
      ],
      "metadata": {
        "id": "P9eAJm1ZHH9-"
      },
      "execution_count": 5,
      "outputs": []
    },
    {
      "cell_type": "markdown",
      "source": [
        "# Matplotlib"
      ],
      "metadata": {
        "id": "7PZ1T7PcHUZG"
      }
    },
    {
      "cell_type": "code",
      "source": [
        "import matplotlib.pyplot as plt\n",
        "%matplotlib inline \n",
        "\n",
        "# Set matplotlib sizes\n",
        "plt.rc('font', size=20)\n",
        "plt.rc('axes', titlesize=20)\n",
        "plt.rc('axes', labelsize=20)\n",
        "plt.rc('xtick', labelsize=20)\n",
        "plt.rc('ytick', labelsize=20)\n",
        "plt.rc('legend', fontsize=20)\n",
        "plt.rc('figure', titlesize=20)"
      ],
      "metadata": {
        "id": "NhP0kXVJHMMr"
      },
      "execution_count": 6,
      "outputs": []
    },
    {
      "cell_type": "markdown",
      "source": [
        "#Tesorflow"
      ],
      "metadata": {
        "id": "gRF65_ORHY4G"
      }
    },
    {
      "cell_type": "code",
      "source": [
        "# The magic below allows us to use tensorflow version 2.x\n",
        "%tensorflow_version 2.x \n",
        "import tensorflow as tf\n",
        "from tensorflow import keras"
      ],
      "metadata": {
        "id": "tePecum3HYls"
      },
      "execution_count": 7,
      "outputs": []
    },
    {
      "cell_type": "markdown",
      "source": [
        "# Random Seed"
      ],
      "metadata": {
        "id": "V3Gwd-h9HfN7"
      }
    },
    {
      "cell_type": "code",
      "source": [
        "# The random seed\n",
        "random_seed = 42\n",
        "\n",
        "# Set random seed in tensorflow\n",
        "tf.random.set_seed(random_seed)\n",
        "\n",
        "# Set random seed in numpy\n",
        "import numpy as np\n",
        "np.random.seed(random_seed)"
      ],
      "metadata": {
        "id": "7VeX86WlHsAU"
      },
      "execution_count": 8,
      "outputs": []
    },
    {
      "cell_type": "markdown",
      "source": [
        "#Data Preprocessing"
      ],
      "metadata": {
        "id": "x610ar2bHwwE"
      }
    },
    {
      "cell_type": "code",
      "source": [
        "# Change working directory to the absolute path of the deep utilities folder\n",
        "%cd $abspath_util_deep\n",
        "\n",
        "# Import the deep utitilities\n",
        "%run pmlm_utilities_deep.ipynb"
      ],
      "metadata": {
        "id": "6as3xTw6Hugy",
        "colab": {
          "base_uri": "https://localhost:8080/"
        },
        "outputId": "f31ec05c-6080-4d4f-f7cd-85e79634c413"
      },
      "execution_count": 9,
      "outputs": [
        {
          "output_type": "stream",
          "name": "stdout",
          "text": [
            "/content/drive/My Drive/Colab Notebooks/spring_2021/code/utilities/p3_deep_learning\n"
          ]
        }
      ]
    },
    {
      "cell_type": "markdown",
      "source": [
        ""
      ],
      "metadata": {
        "id": "vhC2d5sgH4Mw"
      }
    },
    {
      "cell_type": "markdown",
      "source": [
        "## Printing the Classes"
      ],
      "metadata": {
        "id": "O9SOlC5dIHnI"
      }
    },
    {
      "cell_type": "code",
      "source": [
        "target = np.unique(classNo)\n",
        "print(target)"
      ],
      "metadata": {
        "id": "5N3iOYHCH381",
        "colab": {
          "base_uri": "https://localhost:8080/"
        },
        "outputId": "a0dcc307-c782-40f4-df57-0a2417e134d2"
      },
      "execution_count": 10,
      "outputs": [
        {
          "output_type": "stream",
          "name": "stdout",
          "text": [
            "[ 0  1  2  3  4  5  6  7  8  9 10 11 12 13 14 15 16 17 18 19 20 21 22 23\n",
            " 24 25 26 27 28 29 30 31 32 33 34 35 36 37 38 39 40 41 42]\n"
          ]
        }
      ]
    },
    {
      "cell_type": "markdown",
      "source": [
        "## Printing the nummber of classes"
      ],
      "metadata": {
        "id": "i_XyU2sSIPxI"
      }
    },
    {
      "cell_type": "code",
      "source": [
        "n_classes = len(target)\n",
        "print(n_classes)"
      ],
      "metadata": {
        "id": "14xNJ96eIO5r",
        "colab": {
          "base_uri": "https://localhost:8080/"
        },
        "outputId": "1bffdd44-7a59-409c-de0e-83278bb2783a"
      },
      "execution_count": 11,
      "outputs": [
        {
          "output_type": "stream",
          "name": "stdout",
          "text": [
            "43\n"
          ]
        }
      ]
    },
    {
      "cell_type": "markdown",
      "source": [
        "# Spitting the data in train test and Validation"
      ],
      "metadata": {
        "id": "YDPl0WE7Ioik"
      }
    },
    {
      "cell_type": "code",
      "source": [
        "#%%\n",
        "X_train, X_test, y_train, y_test = train_test_split(images, classNo, test_size=0.2)\n",
        "X_train, X_validation, y_train, y_validation = train_test_split(X_train, y_train, test_size=0.2)"
      ],
      "metadata": {
        "id": "Q4wQML7sIoUJ"
      },
      "execution_count": 12,
      "outputs": []
    },
    {
      "cell_type": "markdown",
      "source": [
        "# Using Image Generator to analyse the images in all possible states."
      ],
      "metadata": {
        "id": "9SD4a11OJL2F"
      }
    },
    {
      "cell_type": "code",
      "source": [
        "dataGen = ImageDataGenerator(width_shift_range=0.1,\n",
        "                             \n",
        "                             height_shift_range=0.1,\n",
        "                             zoom_range=0.2,  \n",
        "                             shear_range=0.1,  # MAGNITUDE OF SHEAR ANGLE\n",
        "                             rotation_range=10)  # DEGREES\n",
        "dataGen.fit(X_train)\n",
        "batches = dataGen.flow(X_train, y_train,\n",
        "                       batch_size=20)  \n",
        "X_batch, y_batch = next(batches)\n",
        "y_train = to_categorical(y_train, noOfClasses)\n",
        "y_validation = to_categorical(y_validation, noOfClasses)\n",
        "y_test = to_categorical(y_test, noOfClasses)\n"
      ],
      "metadata": {
        "id": "FbSGWMbcJE4A"
      },
      "execution_count": 15,
      "outputs": []
    },
    {
      "cell_type": "markdown",
      "source": [
        "# Training"
      ],
      "metadata": {
        "id": "zLTQBndIJEtX"
      }
    },
    {
      "cell_type": "markdown",
      "source": [
        "## Creating the directory for the model"
      ],
      "metadata": {
        "id": "SfmBUEmJJ_Z7"
      }
    },
    {
      "cell_type": "code",
      "source": [
        "directory = os.path.dirname(cur_path + '/result/model/')\n",
        "if not os.path.exists(directory):\n",
        "    os.makedirs(directory)"
      ],
      "metadata": {
        "id": "7voneJbaKF80"
      },
      "execution_count": 16,
      "outputs": []
    },
    {
      "cell_type": "markdown",
      "source": [
        "## Building the architecture of the model"
      ],
      "metadata": {
        "id": "un-4AnxvKRb1"
      }
    },
    {
      "cell_type": "code",
      "source": [
        "from keras.layers.convolutional import Conv2D, MaxPooling2D\n",
        "from tensorflow.keras.optimizers import Adam\n",
        "\n",
        "model = Sequential()\n",
        "model.add(Conv2D(filters=32, kernel_size=(5,5), activation='relu', input_shape=X_train.shape[1:]))\n",
        "model.add(Conv2D(filters=32, kernel_size=(5,5), activation='relu'))\n",
        "model.add(MaxPool2D(pool_size=(2, 2)))\n",
        "model.add(Dropout(rate=0.25))\n",
        "model.add(Conv2D(filters=64, kernel_size=(3, 3), activation='relu'))\n",
        "model.add(Conv2D(filters=64, kernel_size=(3, 3), activation='relu'))\n",
        "model.add(MaxPool2D(pool_size=(2, 2)))\n",
        "model.add(Dropout(rate=0.25))\n",
        "model.add(Flatten())\n",
        "model.add(Dense(256, activation='relu'))\n",
        "model.add(Dropout(rate=0.5))\n",
        "model.add(Dense(43, activation='softmax'))\n"
      ],
      "metadata": {
        "id": "Scl1RawqR2ak"
      },
      "execution_count": 44,
      "outputs": []
    },
    {
      "cell_type": "code",
      "source": [
        "\n",
        "model.summary()"
      ],
      "metadata": {
        "id": "kyGgt68LKHRR",
        "colab": {
          "base_uri": "https://localhost:8080/"
        },
        "outputId": "4f1f8509-dc55-40f5-8c30-f8f05bb8a6cd"
      },
      "execution_count": 18,
      "outputs": [
        {
          "output_type": "stream",
          "name": "stdout",
          "text": [
            "Model: \"sequential\"\n",
            "_________________________________________________________________\n",
            " Layer (type)                Output Shape              Param #   \n",
            "=================================================================\n",
            " conv2d (Conv2D)             (None, 28, 28, 32)        2432      \n",
            "                                                                 \n",
            " conv2d_1 (Conv2D)           (None, 24, 24, 32)        25632     \n",
            "                                                                 \n",
            " max_pooling2d (MaxPooling2D  (None, 12, 12, 32)       0         \n",
            " )                                                               \n",
            "                                                                 \n",
            " dropout (Dropout)           (None, 12, 12, 32)        0         \n",
            "                                                                 \n",
            " conv2d_2 (Conv2D)           (None, 10, 10, 64)        18496     \n",
            "                                                                 \n",
            " conv2d_3 (Conv2D)           (None, 8, 8, 64)          36928     \n",
            "                                                                 \n",
            " max_pooling2d_1 (MaxPooling  (None, 4, 4, 64)         0         \n",
            " 2D)                                                             \n",
            "                                                                 \n",
            " dropout_1 (Dropout)         (None, 4, 4, 64)          0         \n",
            "                                                                 \n",
            " flatten (Flatten)           (None, 1024)              0         \n",
            "                                                                 \n",
            " dense (Dense)               (None, 256)               262400    \n",
            "                                                                 \n",
            " dropout_2 (Dropout)         (None, 256)               0         \n",
            "                                                                 \n",
            " dense_1 (Dense)             (None, 43)                11051     \n",
            "                                                                 \n",
            "=================================================================\n",
            "Total params: 356,939\n",
            "Trainable params: 356,939\n",
            "Non-trainable params: 0\n",
            "_________________________________________________________________\n"
          ]
        }
      ]
    },
    {
      "cell_type": "markdown",
      "source": [
        "## Setting Callbacks"
      ],
      "metadata": {
        "id": "5UN_vOF1KbWE"
      }
    },
    {
      "cell_type": "code",
      "source": [
        "# ModelCheckpoint callback\n",
        "model_checkpoint_cb = keras.callbacks.ModelCheckpoint(filepath=cur_path + '/result/model/model.h5',\n",
        "                                                      save_best_only=True,\n",
        "                                                      save_weights_only=True)\n",
        "\n",
        "# EarlyStopping callback\n",
        "early_stopping_cb = keras.callbacks.EarlyStopping(patience=2,\n",
        "                                                  restore_best_weights=True)\n",
        "\n",
        "# ReduceLROnPlateau callback\n",
        "reduce_lr_on_plateau_cb = keras.callbacks.ReduceLROnPlateau(factor=0.1,\n",
        "                                                            patience=1)"
      ],
      "metadata": {
        "id": "4nofu9JLKehQ"
      },
      "execution_count": 45,
      "outputs": []
    },
    {
      "cell_type": "markdown",
      "source": [
        "## Compiling the model"
      ],
      "metadata": {
        "id": "BcQgh0uPKmZU"
      }
    },
    {
      "cell_type": "code",
      "source": [
        "model.compile(optimizer=keras.optimizers.Adam(learning_rate=0.001),\n",
        "              loss='categorical_crossentropy',\n",
        "              metrics=['accuracy'])"
      ],
      "metadata": {
        "id": "o4-szsVxKpl_"
      },
      "execution_count": 46,
      "outputs": []
    },
    {
      "cell_type": "markdown",
      "source": [
        "# Training the model"
      ],
      "metadata": {
        "id": "TS6iHYzwKsnq"
      }
    },
    {
      "cell_type": "code",
      "source": [
        "# Train, evaluate and save the best model\n",
        "steps_per_epoch = len(X_train)//50\n",
        "history = model.fit(X_train,y_train, batch_size=400, epochs=7, validation_data=(X_validation,y_validation),callbacks=[model_checkpoint_cb,early_stopping_cb,reduce_lr_on_plateau_cb])"
      ],
      "metadata": {
        "colab": {
          "base_uri": "https://localhost:8080/"
        },
        "id": "_FFJ_P13K1ts",
        "outputId": "82fc72a2-26bf-4c71-a360-d5d1010fc9ee"
      },
      "execution_count": 47,
      "outputs": [
        {
          "output_type": "stream",
          "name": "stdout",
          "text": [
            "Epoch 1/7\n",
            "56/56 [==============================] - 104s 2s/step - loss: 4.4002 - accuracy: 0.1181 - val_loss: 2.5827 - val_accuracy: 0.3926 - lr: 0.0010\n",
            "Epoch 2/7\n",
            "56/56 [==============================] - 100s 2s/step - loss: 2.2978 - accuracy: 0.4005 - val_loss: 1.4863 - val_accuracy: 0.6774 - lr: 0.0010\n",
            "Epoch 3/7\n",
            "56/56 [==============================] - 98s 2s/step - loss: 1.5304 - accuracy: 0.5786 - val_loss: 0.9502 - val_accuracy: 0.8218 - lr: 0.0010\n",
            "Epoch 4/7\n",
            "56/56 [==============================] - 106s 2s/step - loss: 1.1068 - accuracy: 0.6828 - val_loss: 0.5742 - val_accuracy: 0.8892 - lr: 0.0010\n",
            "Epoch 5/7\n",
            "56/56 [==============================] - 99s 2s/step - loss: 0.8357 - accuracy: 0.7561 - val_loss: 0.3892 - val_accuracy: 0.9255 - lr: 0.0010\n",
            "Epoch 6/7\n",
            "56/56 [==============================] - 98s 2s/step - loss: 0.6720 - accuracy: 0.7966 - val_loss: 0.3236 - val_accuracy: 0.9409 - lr: 0.0010\n",
            "Epoch 7/7\n",
            "56/56 [==============================] - 100s 2s/step - loss: 0.5553 - accuracy: 0.8303 - val_loss: 0.2215 - val_accuracy: 0.9562 - lr: 0.0010\n"
          ]
        }
      ]
    },
    {
      "cell_type": "markdown",
      "source": [
        "# Plotting the learning curve\n",
        "## Creating the directory for the figure"
      ],
      "metadata": {
        "id": "w8fdRrOcNESC"
      }
    },
    {
      "cell_type": "code",
      "source": [
        "# Make directory\n",
        "directory = os.path.dirname(cur_path + '/result/figure/')\n",
        "if not os.path.exists(directory):\n",
        "    os.makedirs(directory)"
      ],
      "metadata": {
        "id": "6gwLnjdbNJQ9"
      },
      "execution_count": 48,
      "outputs": []
    },
    {
      "cell_type": "code",
      "source": [
        "import pandas as pd\n",
        "\n",
        "# Create a figure\n",
        "pd.DataFrame(history.history).plot(figsize=(8, 5))\n",
        "\n",
        "# Set grid\n",
        "plt.grid(True)\n",
        "\n",
        "# Save and show the figure\n",
        "plt.tight_layout()\n",
        "plt.savefig(cur_path + '/result/figure/learning_curve_before_unfreezing.pdf')\n",
        "plt.show()"
      ],
      "metadata": {
        "id": "KrlZaFDCNLil",
        "colab": {
          "base_uri": "https://localhost:8080/",
          "height": 348
        },
        "outputId": "61b27eb4-48e6-40f0-b582-fae46c04cf25"
      },
      "execution_count": 49,
      "outputs": [
        {
          "output_type": "display_data",
          "data": {
            "text/plain": [
              "<Figure size 576x360 with 1 Axes>"
            ],
            "image/png": "[encoded data removed]"
          },
          "metadata": {
            "needs_background": "light"
          }
        }
      ]
    },
    {
      "cell_type": "markdown",
      "source": [
        "# Testin the best model"
      ],
      "metadata": {
        "id": "ZL55vTz_OV14"
      }
    },
    {
      "cell_type": "markdown",
      "source": [
        "## Loading the best saved model"
      ],
      "metadata": {
        "id": "4GR4C_8jOhOz"
      }
    },
    {
      "cell_type": "code",
      "source": [
        "# Load the saved model\n",
        "model.load_weights(filepath=cur_path + '/result/model/model.h5')"
      ],
      "metadata": {
        "id": "zHs6SrjcOWIo"
      },
      "execution_count": 50,
      "outputs": []
    },
    {
      "cell_type": "markdown",
      "source": [
        "## Evaluating the best model"
      ],
      "metadata": {
        "id": "A8o_m9o2OuDR"
      }
    },
    {
      "cell_type": "code",
      "source": [
        "loss, accuracy = model.evaluate(X_test,y_test)\n",
        "print(\"accuracy:\",accuracy,\"loss:\",loss)"
      ],
      "metadata": {
        "id": "gNRDKJe3Owa6",
        "colab": {
          "base_uri": "https://localhost:8080/"
        },
        "outputId": "5dcaea81-114f-4b68-9731-e05e801030e6"
      },
      "execution_count": 51,
      "outputs": [
        {
          "output_type": "stream",
          "name": "stdout",
          "text": [
            "218/218 [==============================] - 8s 36ms/step - loss: 0.2230 - accuracy: 0.9537\n",
            "accuracy: 0.9537356495857239 loss: 0.22301703691482544\n"
          ]
        }
      ]
    },
    {
      "cell_type": "code",
      "source": [
        "def getCalssName(classNo):\n",
        "  if   classNo == 0: return 'Speed Limit 20 km/h'\n",
        "  elif classNo == 1: return 'Speed Limit 30 km/h'\n",
        "  elif classNo == 2: return 'Speed Limit 50 km/h'\n",
        "  elif classNo == 3: return 'Speed Limit 60 km/h'\n",
        "  elif classNo == 4: return 'Speed Limit 70 km/h'\n",
        "  elif classNo == 5: return 'Speed Limit 80 km/h'\n",
        "  elif classNo == 6: return 'End of Speed Limit 80 km/h'\n",
        "  elif classNo == 7: return 'Speed Limit 100 km/h'\n",
        "  elif classNo == 8: return 'Speed Limit 120 km/h'\n",
        "  elif classNo == 9: return 'No passing'\n",
        "  elif classNo == 10: return 'No passing for vechiles over 3.5 metric tons'\n",
        "  elif classNo == 11: return 'Right-of-way at the next intersection'\n",
        "  elif classNo == 12: return 'Priority road'\n",
        "  elif classNo == 13: return 'Yield'\n",
        "  elif classNo == 14: return 'Stop'\n",
        "  elif classNo == 15: return 'No vechiles'\n",
        "  elif classNo == 16: return 'Vechiles over 3.5 metric tons prohibited'\n",
        "  elif classNo == 17: return 'No entry'\n",
        "  elif classNo == 18: return 'General caution'\n",
        "  elif classNo == 19: return 'Dangerous curve to the left'\n",
        "  elif classNo == 20: return 'Dangerous curve to the right'\n",
        "  elif classNo == 21: return 'Double curve'\n",
        "  elif classNo == 22: return 'Bumpy road'\n",
        "  elif classNo == 23: return 'Slippery road'\n",
        "  elif classNo == 24: return 'Road narrows on the right'\n",
        "  elif classNo == 25: return 'Road work'\n",
        "  elif classNo == 26: return 'Traffic signals'\n",
        "  elif classNo == 27: return 'Pedestrians'\n",
        "  elif classNo == 28: return 'Children crossing'\n",
        "  elif classNo == 29: return 'Bicycles crossing'\n",
        "  elif classNo == 30: return 'Beware of ice/snow'\n",
        "  elif classNo == 31: return 'Wild animals crossing'\n",
        "  elif classNo == 32: return 'End of all speed and passing limits'\n",
        "  elif classNo == 33: return 'Turn right ahead'\n",
        "  elif classNo == 34: return 'Turn left ahead'\n",
        "  elif classNo == 35: return 'Ahead only'\n",
        "  elif classNo == 36: return 'Go straight or right'\n",
        "  elif classNo == 37: return 'Go straight or left'\n",
        "  elif classNo == 38: return 'Keep right'\n",
        "  elif classNo == 39: return 'Keep left'\n",
        "  elif classNo == 40: return 'Roundabout mandatory'\n",
        "  elif classNo == 41: return 'End of no passing'\n",
        "  elif classNo == 42: return 'End of no passing by vechiles over 3.5 metric tons'"
      ],
      "metadata": {
        "id": "XM2OgVMepHH6"
      },
      "execution_count": 52,
      "outputs": []
    },
    {
      "cell_type": "code",
      "source": [
        "name_of_image = \"speed20.png\"\n",
        "curImg = cv2.imread(os.path.join(cur_path,\"images\",name_of_image))\n",
        "curImg = np.array(curImg)\n",
        "\n",
        "curImg = cv2.resize(np.float32(curImg), (32,32))\n",
        "curImg = curImg.reshape(-1,32,32,3)\n",
        "\n",
        "predictions = model.predict(curImg)\n",
        "classIndex = np.argmax(predictions)\n",
        "print(getCalssName(classIndex))\n",
        "\n"
      ],
      "metadata": {
        "colab": {
          "base_uri": "https://localhost:8080/"
        },
        "id": "_DqqYbOtKXA7",
        "outputId": "52c7323e-ff68-46ed-9580-c4a0f0d70463"
      },
      "execution_count": 63,
      "outputs": [
        {
          "output_type": "stream",
          "name": "stdout",
          "text": [
            "Speed Limit 20 km/h\n"
          ]
        }
      ]
    },
    {
      "cell_type": "markdown",
      "source": [
        "Citation:https://github.com/yuxiaohuang/teaching/blob/master/gwu/machine_learning_I/spring_2022/code/p3_deep_learning/p3_c2_supervised_learning/p3_c2_s3_convolutional_neural_networks/code_example/code_example.ipynb"
      ],
      "metadata": {
        "id": "qbt8S4s27Rwm"
      }
    }
  ]
}